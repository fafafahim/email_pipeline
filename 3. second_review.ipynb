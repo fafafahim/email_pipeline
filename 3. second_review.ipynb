{
 "cells": [
  {
   "cell_type": "markdown",
   "metadata": {},
   "source": [
    "# Review emails after providing feedback"
   ]
  },
  {
   "cell_type": "code",
   "execution_count": 4,
   "metadata": {},
   "outputs": [
    {
     "name": "stdout",
     "output_type": "stream",
     "text": [
      "Running prompt content_after_feedback for record david.robertson@cambiahealth.com\n",
      "/Users/coding/Desktop/FRQgitrepos/email_codebase_cleaning/./src/scripts/9feedback.py:189: PydanticDeprecatedSince20: The `dict` method is deprecated; use `model_dump` instead. Deprecated in Pydantic V2.0 to be removed in V3.0. See Pydantic V2 Migration Guide at https://errors.pydantic.dev/2.10/migration/\n",
      "  usage = usage.dict()\n",
      "Done running prompt content_after_feedback for record david.robertson@cambiahealth.com\n",
      "Running prompt email_after_feedback for record david.robertson@cambiahealth.com\n",
      "Done running prompt email_after_feedback for record david.robertson@cambiahealth.com\n",
      "Running prompt email_subject_after_feedback for record david.robertson@cambiahealth.com\n",
      "Done running prompt email_subject_after_feedback for record david.robertson@cambiahealth.com\n",
      "Running prompt email_subject_extract_after_feedback for record david.robertson@cambiahealth.com\n",
      "Done running prompt email_subject_extract_after_feedback for record david.robertson@cambiahealth.com\n",
      "Processed record for Email: david.robertson@cambiahealth.com, Total Cost: $0.103051\n"
     ]
    }
   ],
   "source": [
    "!python3 ./src/scripts/9feedback.py"
   ]
  },
  {
   "cell_type": "markdown",
   "metadata": {},
   "source": [
    "# Export\n",
    "\n",
    "## After initial session\n",
    "\n",
    "### Conditions:\n",
    "1. **\"exclude\" Field**  \n",
    "   - If the `\"exclude\"` key is **not present**, it defaults to `True`.  \n",
    "   - The condition `not record.get(\"exclude\", True)` passes **only if** `\"exclude\"` is explicitly set to a **falsy** value (e.g., `False` or `None`).\n",
    "\n",
    "2. **\"email_feedback\" Field**  \n",
    "   - The record must have a **truthy** `\"email_feedback\"` key (i.e., it must be present and not `None` or an empty string)."
   ]
  },
  {
   "cell_type": "code",
   "execution_count": 5,
   "metadata": {},
   "outputs": [],
   "source": [
    "# !python3 ./src/scripts/10transform_apollo_format_feedback.py"
   ]
  },
  {
   "cell_type": "markdown",
   "metadata": {},
   "source": [
    "## Continued reviewing records (ones initially not viewed)\n",
    "\n",
    "### Conditions:\n",
    "1. **\"exclude\" Field**  \n",
    "   - The condition `not record.get(\"exclude\", True)` ensures that:\n",
    "     - If the `\"exclude\"` key is **missing**, it defaults to `True`, thereby excluding the record.\n",
    "     - Only records where `\"exclude\"` is explicitly set to a **falsy** value (`False`, `None`, etc.) are included.\n",
    "\n",
    "2. **\"email_feedback\" Field**  \n",
    "   - The record must have an `\"email_feedback\"` value that is **truthy** (i.e., it must be present and not `None` or an empty string).\n"
   ]
  },
  {
   "cell_type": "code",
   "execution_count": 6,
   "metadata": {},
   "outputs": [],
   "source": [
    "# !python3 ./src/scripts/10transform_apollo_format_feedback_rerun.py"
   ]
  }
 ],
 "metadata": {
  "kernelspec": {
   "display_name": "emailQA_venv",
   "language": "python",
   "name": "python3"
  },
  "language_info": {
   "codemirror_mode": {
    "name": "ipython",
    "version": 3
   },
   "file_extension": ".py",
   "mimetype": "text/x-python",
   "name": "python",
   "nbconvert_exporter": "python",
   "pygments_lexer": "ipython3",
   "version": "3.9.12"
  }
 },
 "nbformat": 4,
 "nbformat_minor": 2
}
