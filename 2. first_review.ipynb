{
 "cells": [
  {
   "cell_type": "markdown",
   "metadata": {},
   "source": [
    "# Initial Email Generation Scripts"
   ]
  },
  {
   "cell_type": "code",
   "execution_count": null,
   "metadata": {},
   "outputs": [],
   "source": [
    "!python3 ./src/scripts/1perplexity.py"
   ]
  },
  {
   "cell_type": "code",
   "execution_count": null,
   "metadata": {},
   "outputs": [],
   "source": [
    "!python3 ./src/scripts/2fix_perplexity_json.py"
   ]
  },
  {
   "cell_type": "code",
   "execution_count": null,
   "metadata": {},
   "outputs": [],
   "source": [
    "!python3 ./src/scripts/3email_generation.py"
   ]
  },
  {
   "cell_type": "code",
   "execution_count": null,
   "metadata": {},
   "outputs": [],
   "source": [
    "!python3 ./src/scripts/4add_citations.py"
   ]
  },
  {
   "cell_type": "code",
   "execution_count": null,
   "metadata": {},
   "outputs": [],
   "source": [
    "!python3 ./src/scripts/5add_feedback_exclusion_keys.py"
   ]
  },
  {
   "cell_type": "code",
   "execution_count": null,
   "metadata": {},
   "outputs": [],
   "source": [
    "!python3 ./src/scripts/6deduplicate_content.py"
   ]
  },
  {
   "cell_type": "code",
   "execution_count": null,
   "metadata": {},
   "outputs": [],
   "source": [
    "!python3 ./src/scripts/7convert_to_html.py"
   ]
  },
  {
   "cell_type": "markdown",
   "metadata": {},
   "source": [
    "At this point, you should have `5html_converted_content.json`, which allows you to view `Main Mode`."
   ]
  },
  {
   "cell_type": "markdown",
   "metadata": {},
   "source": [
    "Once you have reviewed emails and added your feedback, you can run second_review.ipynb. This generate `6email_feedback.json`, which should now enable `Switch to QA Mode`."
   ]
  },
  {
   "cell_type": "markdown",
   "metadata": {},
   "source": [
    "# Export\n",
    "\n",
    "## After initial session\n",
    "\n",
    "### Filtering Criteria:\n",
    "1. **\"exclude\" Field**  \n",
    "   - Must be `False` or not present.\n",
    "\n",
    "2. **\"email_feedback\" Field**  \n",
    "   - Must **not** be provided (`None` or not present).\n",
    "\n",
    "3. **\"flag\" Field**  \n",
    "   - Must be `False` or not present.\n",
    "\n",
    "4. **\"viewed\" Field**  \n",
    "   - Must be `True`."
   ]
  },
  {
   "cell_type": "code",
   "execution_count": null,
   "metadata": {},
   "outputs": [],
   "source": [
    "# !python3 ./src/scripts/8transform_apollo_format.py"
   ]
  },
  {
   "cell_type": "markdown",
   "metadata": {},
   "source": [
    "## Continued reviewing records (ones initially not viewed)\n",
    "\n",
    "### Filtering Criteria:\n",
    "1. **\"exclude\" Field**  \n",
    "   - Must be `False` or not present.\n",
    "\n",
    "2. **\"email_feedback\" Field**  \n",
    "   - Must **not** be provided (`None` or not present).\n",
    "\n",
    "3. **\"flag\" Field**  \n",
    "   - Must be `False` or not present.\n",
    "\n",
    "4. **\"viewed\" Field**  \n",
    "   - Must be `True`.\n",
    "\n",
    "5. **\"exported\" Field**  \n",
    "   - Must be `False`."
   ]
  },
  {
   "cell_type": "code",
   "execution_count": null,
   "metadata": {},
   "outputs": [],
   "source": [
    "# !python3 ./src/scripts/8transform_apollo_format_rerun.py"
   ]
  }
 ],
 "metadata": {
  "kernelspec": {
   "display_name": "emailQA_venv",
   "language": "python",
   "name": "python3"
  },
  "language_info": {
   "codemirror_mode": {
    "name": "ipython",
    "version": 3
   },
   "file_extension": ".py",
   "mimetype": "text/x-python",
   "name": "python",
   "nbconvert_exporter": "python",
   "pygments_lexer": "ipython3",
   "version": "3.9.12"
  }
 },
 "nbformat": 4,
 "nbformat_minor": 2
}
